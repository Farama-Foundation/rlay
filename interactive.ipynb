{
 "cells": [
  {
   "cell_type": "code",
   "execution_count": 1,
   "outputs": [],
   "source": [
    "%load_ext line_profiler"
   ],
   "metadata": {
    "collapsed": false,
    "ExecuteTime": {
     "end_time": "2023-10-21T13:51:25.825959Z",
     "start_time": "2023-10-21T13:51:25.776938Z"
    }
   },
   "id": "f53a98919d079947"
  },
  {
   "cell_type": "code",
   "execution_count": 2,
   "id": "initial_id",
   "metadata": {
    "collapsed": true,
    "ExecuteTime": {
     "end_time": "2023-10-21T13:51:27.296729Z",
     "start_time": "2023-10-21T13:51:26.314727Z"
    }
   },
   "outputs": [],
   "source": [
    "from rlay import ClientEnv\n",
    "\n",
    "import numpy as np\n",
    "from tqdm import trange\n",
    "\n"
   ]
  },
  {
   "cell_type": "code",
   "execution_count": 3,
   "outputs": [
    {
     "name": "stdout",
     "output_type": "stream",
     "text": [
      "Environment starting on port 50051\n"
     ]
    }
   ],
   "source": [
    "env = ClientEnv()\n",
    "\n"
   ],
   "metadata": {
    "collapsed": false,
    "ExecuteTime": {
     "end_time": "2023-10-21T13:51:27.323708Z",
     "start_time": "2023-10-21T13:51:27.033157Z"
    }
   },
   "id": "c506c48045a4f1fd"
  },
  {
   "cell_type": "code",
   "execution_count": 4,
   "outputs": [
    {
     "name": "stderr",
     "output_type": "stream",
     "text": [
      "100%|██████████| 10000/10000 [00:12<00:00, 784.61it/s]\n"
     ]
    }
   ],
   "source": [
    "env.reset()\n",
    "for i in trange(10000):\n",
    "    # print(i)\n",
    "    action = np.array([0], dtype=int)\n",
    "    obs, reward, terminated, truncated, info = env.step(action)\n",
    "    # print(obs)\n",
    "    if terminated or truncated:\n",
    "        env.reset()\n",
    "\n",
    "# env.close()"
   ],
   "metadata": {
    "collapsed": false,
    "ExecuteTime": {
     "end_time": "2023-10-21T13:51:41.686310Z",
     "start_time": "2023-10-21T13:51:28.870981Z"
    }
   },
   "id": "e264377f01f6fe2c"
  },
  {
   "cell_type": "code",
   "execution_count": 14,
   "outputs": [],
   "source": [
    "def rollout():\n",
    "    env.reset()\n",
    "    for i in range(10000):\n",
    "        # print(i)\n",
    "        action = np.array([0], dtype=int)\n",
    "        obs, reward, terminated, truncated, info = env.step(action)\n",
    "        # print(obs)\n",
    "        if terminated or truncated:\n",
    "            env.reset()"
   ],
   "metadata": {
    "collapsed": false,
    "ExecuteTime": {
     "end_time": "2023-10-21T13:43:21.820116Z",
     "start_time": "2023-10-21T13:43:21.814631Z"
    }
   },
   "id": "f56f9184d4a8f41"
  },
  {
   "cell_type": "code",
   "execution_count": 12,
   "outputs": [],
   "source": [
    "rollout()"
   ],
   "metadata": {
    "collapsed": false,
    "ExecuteTime": {
     "end_time": "2023-10-21T13:42:48.847202Z",
     "start_time": "2023-10-21T13:42:44.340017Z"
    }
   },
   "id": "4b9c42fd4679095b"
  },
  {
   "cell_type": "code",
   "execution_count": 15,
   "outputs": [],
   "source": [
    "%lprun -f env.communicator.receive_message rollout()"
   ],
   "metadata": {
    "collapsed": false,
    "ExecuteTime": {
     "end_time": "2023-10-21T13:43:24.118684Z",
     "start_time": "2023-10-21T13:43:22.683682Z"
    }
   },
   "id": "2c961b09d4aad802"
  }
 ],
 "metadata": {
  "kernelspec": {
   "display_name": "Python 3",
   "language": "python",
   "name": "python3"
  },
  "language_info": {
   "codemirror_mode": {
    "name": "ipython",
    "version": 2
   },
   "file_extension": ".py",
   "mimetype": "text/x-python",
   "name": "python",
   "nbconvert_exporter": "python",
   "pygments_lexer": "ipython2",
   "version": "2.7.6"
  }
 },
 "nbformat": 4,
 "nbformat_minor": 5
}
